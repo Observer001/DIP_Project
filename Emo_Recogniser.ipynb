{
  "nbformat": 4,
  "nbformat_minor": 0,
  "metadata": {
    "colab": {
      "name": "Untitled",
      "provenance": [],
      "collapsed_sections": []
    },
    "kernelspec": {
      "name": "python3",
      "display_name": "Python 3"
    },
    "accelerator": "GPU"
  },
  "cells": [
    {
      "cell_type": "code",
      "metadata": {
        "id": "-8xiSIMM9Dyk"
      },
      "source": [
        "import numpy as np # linear algebra\r\n",
        "import pandas as pd # data processing, CSV file I/O (e.g. pd.read_csv)\r\n",
        "import keras\r\n",
        "from keras.models import Sequential\r\n",
        "from keras.layers import Dense, Dropout, Flatten, BatchNormalization\r\n",
        "from keras.layers import Conv2D, MaxPooling2D, Activation\r\n",
        "from keras import backend as K\r\n",
        "import matplotlib.pyplot as plt\r\n",
        "import cv2\r\n",
        "import os"
      ],
      "execution_count": 2,
      "outputs": []
    },
    {
      "cell_type": "code",
      "metadata": {
        "colab": {
          "base_uri": "https://localhost:8080/"
        },
        "id": "ysEq5FWg9oyK",
        "outputId": "875b100e-b72f-48f1-cd1e-e7dae28e6381"
      },
      "source": [
        "from google.colab import drive\r\n",
        "drive.mount('/content/drive')"
      ],
      "execution_count": 3,
      "outputs": [
        {
          "output_type": "stream",
          "text": [
            "Mounted at /content/drive\n"
          ],
          "name": "stdout"
        }
      ]
    },
    {
      "cell_type": "code",
      "metadata": {
        "id": "Stl-HUCi9o0o"
      },
      "source": [
        "os.chdir(\"drive/My Drive/DIP\")"
      ],
      "execution_count": 4,
      "outputs": []
    },
    {
      "cell_type": "code",
      "metadata": {
        "colab": {
          "base_uri": "https://localhost:8080/"
        },
        "id": "swUzPpE89o3F",
        "outputId": "6ecc8095-146d-4580-b550-c7ed9967a003"
      },
      "source": [
        "!ls"
      ],
      "execution_count": null,
      "outputs": [
        {
          "output_type": "stream",
          "text": [
            "'Emotion Recog.ipynb'   fer2013.csv\n"
          ],
          "name": "stdout"
        }
      ]
    },
    {
      "cell_type": "code",
      "metadata": {
        "id": "IGWpb-nO98JX"
      },
      "source": [
        "data = pd.read_csv('fer2013.csv', delimiter=',')"
      ],
      "execution_count": 17,
      "outputs": []
    },
    {
      "cell_type": "code",
      "metadata": {
        "id": "-MiDWS8H98MM"
      },
      "source": [
        "# 90% Training and 10% Testing\r\n",
        "data_train = data[:32298]\r\n",
        "data_test = data[32298:]"
      ],
      "execution_count": 18,
      "outputs": []
    },
    {
      "cell_type": "code",
      "metadata": {
        "id": "70Jtmzsz98On"
      },
      "source": [
        "y_train = data_train['emotion'].values\r\n",
        "y_test = data_test['emotion'].values"
      ],
      "execution_count": 19,
      "outputs": []
    },
    {
      "cell_type": "code",
      "metadata": {
        "id": "mWA5hc8l98RK"
      },
      "source": [
        "# Converting string of pixel data to an array\r\n",
        "x_train = np.zeros((y_train.shape[0], 48*48))\r\n",
        "for i in range(y_train.shape[0]):\r\n",
        "    x_train[i] = np.fromstring(data_train['pixels'][i], dtype=int, sep=' ')\r\n",
        "    \r\n",
        "x_test = np.zeros((y_test.shape[0], 48*48))\r\n",
        "for i in range(y_test.shape[0]):\r\n",
        "    x_test[i] = np.fromstring(data_test['pixels'][32298+i], dtype=int, sep=' ')"
      ],
      "execution_count": 20,
      "outputs": []
    },
    {
      "cell_type": "code",
      "metadata": {
        "colab": {
          "base_uri": "https://localhost:8080/"
        },
        "id": "lGkBFq6S98Tt",
        "outputId": "8e8cf377-e289-4a5c-a8a9-feb88702982c"
      },
      "source": [
        "print(x_train.shape)\r\n",
        "print(x_test.shape)"
      ],
      "execution_count": 21,
      "outputs": [
        {
          "output_type": "stream",
          "text": [
            "(32298, 2304)\n",
            "(3589, 2304)\n"
          ],
          "name": "stdout"
        }
      ]
    },
    {
      "cell_type": "code",
      "metadata": {
        "id": "X1QepMzG98WR"
      },
      "source": [
        "# Generate reversed images for every data assuming emotion are symetric\r\n",
        "img_rows, img_cols = 48, 48\r\n",
        "num_classes = 7\r\n",
        "\r\n",
        "x_train = x_train.reshape(x_train.shape[0], img_rows, img_cols, 1)\r\n",
        "x_test = x_test.reshape(x_test.shape[0], img_rows, img_cols, 1)\r\n",
        "\r\n",
        "x_train_rev = np.flip(x_train, 2)\r\n",
        "x_test_rev = np.flip(x_test, 2)"
      ],
      "execution_count": 22,
      "outputs": []
    },
    {
      "cell_type": "code",
      "metadata": {
        "colab": {
          "base_uri": "https://localhost:8080/",
          "height": 535
        },
        "id": "_95G1fAH98Y6",
        "outputId": "8552b1e3-a23b-4184-aefe-2eb43ac4aebb"
      },
      "source": [
        "plt.figure(1)\r\n",
        "plt.imshow(x_train[0].reshape((48,48)))\r\n",
        "\r\n",
        "plt.figure(2)\r\n",
        "plt.imshow(x_train_rev[0].reshape((48,48)))"
      ],
      "execution_count": 23,
      "outputs": [
        {
          "output_type": "execute_result",
          "data": {
            "text/plain": [
              "<matplotlib.image.AxesImage at 0x7f484274aba8>"
            ]
          },
          "metadata": {
            "tags": []
          },
          "execution_count": 23
        },
        {
          "output_type": "display_data",
          "data": {
            "image/png": "[encoded data removed]",
            "text/plain": [
              "<Figure size 432x288 with 1 Axes>"
            ]
          },
          "metadata": {
            "tags": [],
            "needs_background": "light"
          }
        },
        {
          "output_type": "display_data",
          "data": {
            "image/png": "[encoded data removed]",
            "text/plain": [
              "<Figure size 432x288 with 1 Axes>"
            ]
          },
          "metadata": {
            "tags": [],
            "needs_background": "light"
          }
        }
      ]
    },
    {
      "cell_type": "code",
      "metadata": {
        "colab": {
          "base_uri": "https://localhost:8080/"
        },
        "id": "7khme7-I98bo",
        "outputId": "d6763ff0-b156-4b2f-c4fb-f7f96f78258e"
      },
      "source": [
        "# Some preprocessing\r\n",
        "input_shape = (img_rows, img_cols, 1)\r\n",
        "\r\n",
        "x_train = x_train.astype('float32')\r\n",
        "x_test = x_test.astype('float32')\r\n",
        "x_train_rev = x_train_rev.astype('float32')\r\n",
        "x_test_rev = x_test_rev.astype('float32')\r\n",
        "x_train /= 255\r\n",
        "x_test /= 255\r\n",
        "x_train_rev /= 255\r\n",
        "x_test_rev /= 255\r\n",
        "print('x_train shape:', x_train.shape)\r\n",
        "\r\n",
        "y_train = keras.utils.to_categorical(y_train, num_classes)\r\n",
        "y_test = keras.utils.to_categorical(y_test, num_classes)\r\n",
        "print('y_train shape:', y_train.shape)"
      ],
      "execution_count": 24,
      "outputs": [
        {
          "output_type": "stream",
          "text": [
            "x_train shape: (32298, 48, 48, 1)\n",
            "y_train shape: (32298, 7)\n"
          ],
          "name": "stdout"
        }
      ]
    },
    {
      "cell_type": "code",
      "metadata": {
        "id": "f92r14L9-Nyr"
      },
      "source": [
        "# define the model\r\n",
        "def cnn_model():\r\n",
        "    model = Sequential()\r\n",
        "\r\n",
        "    model.add(BatchNormalization(input_shape=input_shape))\r\n",
        "\r\n",
        "    model.add(Conv2D(32, kernel_size=(3, 3)))\r\n",
        "    model.add(BatchNormalization())\r\n",
        "    model.add(Activation('relu'))\r\n",
        "\r\n",
        "    model.add(Conv2D(64, (3, 3)))\r\n",
        "    model.add(BatchNormalization())\r\n",
        "    model.add(Activation('relu'))\r\n",
        "    model.add(MaxPooling2D(pool_size=(2, 2)))\r\n",
        "    model.add(Dropout(0.25))\r\n",
        "\r\n",
        "    model.add(Conv2D(512, (3, 3)))\r\n",
        "    model.add(BatchNormalization())\r\n",
        "    model.add(Activation('relu'))\r\n",
        "    model.add(MaxPooling2D(pool_size=(2, 2)))\r\n",
        "    model.add(Dropout(0.25))\r\n",
        "\r\n",
        "    model.add(Conv2D(64, (3, 3)))\r\n",
        "    model.add(BatchNormalization())\r\n",
        "    model.add(Activation('relu'))\r\n",
        "    model.add(Dropout(0.25))\r\n",
        "    # model.add(Conv2D(32, (3, 3)))\r\n",
        "    # model.add(BatchNormalization())\r\n",
        "    # model.add(Activation('relu'))\r\n",
        "    # model.add(Dropout(0.2))\r\n",
        "\r\n",
        "    model.add(Flatten())\r\n",
        "    model.add(Dense(512))\r\n",
        "    model.add(BatchNormalization())\r\n",
        "    model.add(Activation('relu'))\r\n",
        "    model.add(Dropout(0.25))\r\n",
        "\r\n",
        "    model.add(Dense(128))\r\n",
        "    model.add(BatchNormalization())\r\n",
        "    model.add(Activation('relu'))\r\n",
        "    model.add(Dropout(0.25))\r\n",
        "\r\n",
        "    model.add(Dense(num_classes, activation='softmax'))\r\n",
        "\r\n",
        "    model.compile(loss=keras.losses.categorical_crossentropy,\r\n",
        "                  optimizer='adam',\r\n",
        "                  metrics=['accuracy'])\r\n",
        "    \r\n",
        "    return model"
      ],
      "execution_count": 25,
      "outputs": []
    },
    {
      "cell_type": "code",
      "metadata": {
        "id": "iGt_fE9d-N1N"
      },
      "source": [
        "# function to plot graph\r\n",
        "def plotGraph(history):\r\n",
        "    plt.plot(history.history['accuracy'])\r\n",
        "    plt.plot(history.history['val_accuracy'])\r\n",
        "    plt.title('model accuracy')\r\n",
        "    plt.ylabel('accuracy')\r\n",
        "    plt.xlabel('epoch')\r\n",
        "    plt.legend(['train', 'test'])\r\n",
        "    plt.savefig('model_accuracy.png')\r\n",
        "    plt.show()\r\n",
        "    \r\n",
        "    # summarize history for loss\r\n",
        "    plt.plot(history.history['loss'])\r\n",
        "    plt.plot(history.history['val_loss'])\r\n",
        "    plt.title('model loss')\r\n",
        "    plt.ylabel('loss')\r\n",
        "    plt.xlabel('epoch')\r\n",
        "    plt.legend(['train', 'test'])\r\n",
        "    plt.savefig('model_loss.png')\r\n",
        "    plt.show()"
      ],
      "execution_count": 26,
      "outputs": []
    },
    {
      "cell_type": "code",
      "metadata": {
        "id": "kDHoHHYB-N3r"
      },
      "source": [
        "batch_size = 64\r\n",
        "epochs = 25\r\n",
        "model = []"
      ],
      "execution_count": 27,
      "outputs": []
    },
    {
      "cell_type": "code",
      "metadata": {
        "colab": {
          "base_uri": "https://localhost:8080/"
        },
        "id": "k-Q6HJTk-Z9j",
        "outputId": "2e39083a-1227-4bc3-c634-f889d2977920"
      },
      "source": [
        "print(\"=======| Model 1 |=========\")\r\n",
        "modelc = cnn_model()\r\n",
        "history = modelc.fit(x_train, y_train,\r\n",
        "          batch_size=batch_size,\r\n",
        "          epochs=epochs,\r\n",
        "          verbose=1,\r\n",
        "          validation_split = 0.1)\r\n",
        "model.append(modelc)"
      ],
      "execution_count": 28,
      "outputs": [
        {
          "output_type": "stream",
          "text": [
            "=======| Model 1 |=========\n",
            "Epoch 1/25\n",
            "455/455 [==============================] - 9s 20ms/step - loss: 1.6120 - accuracy: 0.3820 - val_loss: 1.3705 - val_accuracy: 0.4684\n",
            "Epoch 2/25\n",
            "455/455 [==============================] - 9s 19ms/step - loss: 1.3043 - accuracy: 0.5008 - val_loss: 1.2511 - val_accuracy: 0.5186\n",
            "Epoch 3/25\n",
            "455/455 [==============================] - 9s 19ms/step - loss: 1.1849 - accuracy: 0.5504 - val_loss: 1.1942 - val_accuracy: 0.5406\n",
            "Epoch 4/25\n",
            "455/455 [==============================] - 9s 19ms/step - loss: 1.1109 - accuracy: 0.5795 - val_loss: 1.1580 - val_accuracy: 0.5557\n",
            "Epoch 5/25\n",
            "455/455 [==============================] - 9s 19ms/step - loss: 1.0476 - accuracy: 0.6052 - val_loss: 1.1042 - val_accuracy: 0.5793\n",
            "Epoch 6/25\n",
            "455/455 [==============================] - 9s 19ms/step - loss: 0.9993 - accuracy: 0.6222 - val_loss: 1.0924 - val_accuracy: 0.5858\n",
            "Epoch 7/25\n",
            "455/455 [==============================] - 9s 19ms/step - loss: 0.9357 - accuracy: 0.6467 - val_loss: 1.0563 - val_accuracy: 0.6084\n",
            "Epoch 8/25\n",
            "455/455 [==============================] - 9s 19ms/step - loss: 0.8818 - accuracy: 0.6684 - val_loss: 1.1288 - val_accuracy: 0.5947\n",
            "Epoch 9/25\n",
            "455/455 [==============================] - 9s 19ms/step - loss: 0.8198 - accuracy: 0.6922 - val_loss: 1.0804 - val_accuracy: 0.6037\n",
            "Epoch 10/25\n",
            "455/455 [==============================] - 9s 19ms/step - loss: 0.7751 - accuracy: 0.7121 - val_loss: 1.1540 - val_accuracy: 0.5978\n",
            "Epoch 11/25\n",
            "455/455 [==============================] - 9s 19ms/step - loss: 0.7116 - accuracy: 0.7354 - val_loss: 1.1230 - val_accuracy: 0.6068\n",
            "Epoch 12/25\n",
            "455/455 [==============================] - 9s 19ms/step - loss: 0.6527 - accuracy: 0.7599 - val_loss: 1.1597 - val_accuracy: 0.6142\n",
            "Epoch 13/25\n",
            "455/455 [==============================] - 9s 19ms/step - loss: 0.6135 - accuracy: 0.7726 - val_loss: 1.2173 - val_accuracy: 0.6059\n",
            "Epoch 14/25\n",
            "455/455 [==============================] - 9s 19ms/step - loss: 0.5602 - accuracy: 0.7946 - val_loss: 1.2426 - val_accuracy: 0.6211\n",
            "Epoch 15/25\n",
            "455/455 [==============================] - 9s 19ms/step - loss: 0.5165 - accuracy: 0.8070 - val_loss: 1.2733 - val_accuracy: 0.6211\n",
            "Epoch 16/25\n",
            "455/455 [==============================] - 9s 19ms/step - loss: 0.4700 - accuracy: 0.8277 - val_loss: 1.3242 - val_accuracy: 0.6139\n",
            "Epoch 17/25\n",
            "455/455 [==============================] - 9s 20ms/step - loss: 0.4464 - accuracy: 0.8370 - val_loss: 1.3401 - val_accuracy: 0.6195\n",
            "Epoch 18/25\n",
            "455/455 [==============================] - 9s 19ms/step - loss: 0.4045 - accuracy: 0.8535 - val_loss: 1.3564 - val_accuracy: 0.6164\n",
            "Epoch 19/25\n",
            "455/455 [==============================] - 9s 19ms/step - loss: 0.3735 - accuracy: 0.8658 - val_loss: 1.4176 - val_accuracy: 0.6238\n",
            "Epoch 20/25\n",
            "455/455 [==============================] - 9s 19ms/step - loss: 0.3529 - accuracy: 0.8712 - val_loss: 1.4356 - val_accuracy: 0.6254\n",
            "Epoch 21/25\n",
            "455/455 [==============================] - 9s 19ms/step - loss: 0.3313 - accuracy: 0.8827 - val_loss: 1.4591 - val_accuracy: 0.6334\n",
            "Epoch 22/25\n",
            "455/455 [==============================] - 9s 19ms/step - loss: 0.3192 - accuracy: 0.8864 - val_loss: 1.4657 - val_accuracy: 0.6257\n",
            "Epoch 23/25\n",
            "455/455 [==============================] - 9s 19ms/step - loss: 0.2926 - accuracy: 0.8934 - val_loss: 1.4721 - val_accuracy: 0.6183\n",
            "Epoch 24/25\n",
            "455/455 [==============================] - 9s 19ms/step - loss: 0.2769 - accuracy: 0.9026 - val_loss: 1.6083 - val_accuracy: 0.6229\n",
            "Epoch 25/25\n",
            "455/455 [==============================] - 9s 19ms/step - loss: 0.2581 - accuracy: 0.9069 - val_loss: 1.6500 - val_accuracy: 0.6254\n"
          ],
          "name": "stdout"
        }
      ]
    },
    {
      "cell_type": "code",
      "metadata": {
        "colab": {
          "base_uri": "https://localhost:8080/",
          "height": 573
        },
        "id": "Vn-t3H6l-Z_2",
        "outputId": "089000fa-0c45-4da1-bb14-da6bb0602dc8"
      },
      "source": [
        "plotGraph(history)"
      ],
      "execution_count": 29,
      "outputs": [
        {
          "output_type": "display_data",
          "data": {
            "image/png": "[encoded data removed]",
            "text/plain": [
              "<Figure size 432x288 with 1 Axes>"
            ]
          },
          "metadata": {
            "tags": [],
            "needs_background": "light"
          }
        },
        {
          "output_type": "display_data",
          "data": {
            "image/png": "[encoded data removed]",
            "text/plain": [
              "<Figure size 432x288 with 1 Axes>"
            ]
          },
          "metadata": {
            "tags": [],
            "needs_background": "light"
          }
        }
      ]
    },
    {
      "cell_type": "code",
      "metadata": {
        "colab": {
          "base_uri": "https://localhost:8080/"
        },
        "id": "VtymwtVc-aCw",
        "outputId": "6d3fff2f-f064-4428-f702-d1d7c0e0b780"
      },
      "source": [
        "print(\"=======| Model 2 |=========\")\r\n",
        "modelc = cnn_model()\r\n",
        "history = modelc.fit(x_train_rev, y_train,\r\n",
        "          batch_size=batch_size,\r\n",
        "          epochs=epochs,\r\n",
        "          verbose=1,\r\n",
        "          validation_split = 0.1)\r\n",
        "model.append(modelc)"
      ],
      "execution_count": 30,
      "outputs": [
        {
          "output_type": "stream",
          "text": [
            "=======| Model 2 |=========\n",
            "Epoch 1/25\n",
            "455/455 [==============================] - 9s 20ms/step - loss: 1.6010 - accuracy: 0.3875 - val_loss: 1.4496 - val_accuracy: 0.4430\n",
            "Epoch 2/25\n",
            "455/455 [==============================] - 9s 19ms/step - loss: 1.3060 - accuracy: 0.4974 - val_loss: 1.2497 - val_accuracy: 0.5155\n",
            "Epoch 3/25\n",
            "455/455 [==============================] - 9s 19ms/step - loss: 1.1884 - accuracy: 0.5483 - val_loss: 1.2449 - val_accuracy: 0.5251\n",
            "Epoch 4/25\n",
            "455/455 [==============================] - 9s 19ms/step - loss: 1.1106 - accuracy: 0.5767 - val_loss: 1.1424 - val_accuracy: 0.5656\n",
            "Epoch 5/25\n",
            "455/455 [==============================] - 9s 19ms/step - loss: 1.0557 - accuracy: 0.6006 - val_loss: 1.1757 - val_accuracy: 0.5641\n",
            "Epoch 6/25\n",
            "455/455 [==============================] - 9s 19ms/step - loss: 0.9891 - accuracy: 0.6257 - val_loss: 1.1029 - val_accuracy: 0.5824\n",
            "Epoch 7/25\n",
            "455/455 [==============================] - 9s 19ms/step - loss: 0.9323 - accuracy: 0.6514 - val_loss: 1.1135 - val_accuracy: 0.5870\n",
            "Epoch 8/25\n",
            "455/455 [==============================] - 9s 19ms/step - loss: 0.8756 - accuracy: 0.6755 - val_loss: 1.1242 - val_accuracy: 0.5895\n",
            "Epoch 9/25\n",
            "455/455 [==============================] - 9s 19ms/step - loss: 0.8148 - accuracy: 0.6977 - val_loss: 1.1068 - val_accuracy: 0.6071\n",
            "Epoch 10/25\n",
            "455/455 [==============================] - 9s 19ms/step - loss: 0.7621 - accuracy: 0.7166 - val_loss: 1.1278 - val_accuracy: 0.6087\n",
            "Epoch 11/25\n",
            "455/455 [==============================] - 9s 19ms/step - loss: 0.7016 - accuracy: 0.7386 - val_loss: 1.1462 - val_accuracy: 0.6158\n",
            "Epoch 12/25\n",
            "455/455 [==============================] - 9s 19ms/step - loss: 0.6462 - accuracy: 0.7617 - val_loss: 1.1652 - val_accuracy: 0.6115\n",
            "Epoch 13/25\n",
            "455/455 [==============================] - 9s 19ms/step - loss: 0.6067 - accuracy: 0.7767 - val_loss: 1.2065 - val_accuracy: 0.6115\n",
            "Epoch 14/25\n",
            "455/455 [==============================] - 9s 19ms/step - loss: 0.5539 - accuracy: 0.7950 - val_loss: 1.2213 - val_accuracy: 0.6180\n",
            "Epoch 15/25\n",
            "455/455 [==============================] - 9s 19ms/step - loss: 0.5015 - accuracy: 0.8144 - val_loss: 1.2851 - val_accuracy: 0.6269\n",
            "Epoch 16/25\n",
            "455/455 [==============================] - 9s 19ms/step - loss: 0.4639 - accuracy: 0.8300 - val_loss: 1.2962 - val_accuracy: 0.6204\n",
            "Epoch 17/25\n",
            "455/455 [==============================] - 9s 19ms/step - loss: 0.4287 - accuracy: 0.8425 - val_loss: 1.3319 - val_accuracy: 0.6263\n",
            "Epoch 18/25\n",
            "455/455 [==============================] - 9s 19ms/step - loss: 0.3946 - accuracy: 0.8579 - val_loss: 1.3743 - val_accuracy: 0.6223\n",
            "Epoch 19/25\n",
            "455/455 [==============================] - 9s 19ms/step - loss: 0.3684 - accuracy: 0.8670 - val_loss: 1.4111 - val_accuracy: 0.6235\n",
            "Epoch 20/25\n",
            "455/455 [==============================] - 9s 19ms/step - loss: 0.3479 - accuracy: 0.8718 - val_loss: 1.4673 - val_accuracy: 0.6337\n",
            "Epoch 21/25\n",
            "455/455 [==============================] - 9s 19ms/step - loss: 0.3315 - accuracy: 0.8792 - val_loss: 1.4795 - val_accuracy: 0.6226\n",
            "Epoch 22/25\n",
            "455/455 [==============================] - 9s 19ms/step - loss: 0.2999 - accuracy: 0.8924 - val_loss: 1.5691 - val_accuracy: 0.6347\n",
            "Epoch 23/25\n",
            "455/455 [==============================] - 9s 19ms/step - loss: 0.2850 - accuracy: 0.8972 - val_loss: 1.4968 - val_accuracy: 0.6269\n",
            "Epoch 24/25\n",
            "455/455 [==============================] - 9s 19ms/step - loss: 0.2816 - accuracy: 0.8989 - val_loss: 1.5671 - val_accuracy: 0.6241\n",
            "Epoch 25/25\n",
            "455/455 [==============================] - 9s 19ms/step - loss: 0.2601 - accuracy: 0.9070 - val_loss: 1.5433 - val_accuracy: 0.6300\n"
          ],
          "name": "stdout"
        }
      ]
    },
    {
      "cell_type": "code",
      "metadata": {
        "colab": {
          "base_uri": "https://localhost:8080/",
          "height": 573
        },
        "id": "wOLAM-dc-aFa",
        "outputId": "52128fe7-93fa-4e93-e35a-745333f58f23"
      },
      "source": [
        "plotGraph(history)"
      ],
      "execution_count": 31,
      "outputs": [
        {
          "output_type": "display_data",
          "data": {
            "image/png": "[encoded data removed]",
            "text/plain": [
              "<Figure size 432x288 with 1 Axes>"
            ]
          },
          "metadata": {
            "tags": [],
            "needs_background": "light"
          }
        },
        {
          "output_type": "display_data",
          "data": {
            "image/png": "[encoded data removed]",
            "text/plain": [
              "<Figure size 432x288 with 1 Axes>"
            ]
          },
          "metadata": {
            "tags": [],
            "needs_background": "light"
          }
        }
      ]
    },
    {
      "cell_type": "code",
      "metadata": {
        "id": "1LntWzIX-ufp"
      },
      "source": [
        "# p_tr >> prediction on training data\r\n",
        "# p_te >> prediction on test data\r\n",
        "\r\n",
        "p_tr = []\r\n",
        "p_te = []\r\n",
        "\r\n",
        "for i, m in enumerate(model):\r\n",
        "    if i ==0:\r\n",
        "        p = m.predict(x_train)\r\n",
        "        pt = m.predict(x_test)\r\n",
        "    else:\r\n",
        "        p = m.predict(x_train_rev)\r\n",
        "        pt = m.predict(x_test_rev)\r\n",
        "    p_tr.append(p)\r\n",
        "    p_te.append(pt)\r\n",
        "    m.save('saved_model/cnn'+str(i)+'.h5')"
      ],
      "execution_count": 32,
      "outputs": []
    },
    {
      "cell_type": "code",
      "metadata": {
        "colab": {
          "base_uri": "https://localhost:8080/"
        },
        "id": "8jxJZdlK-uil",
        "outputId": "2a945b66-82e4-4a84-8480-98ab4c7d15ae"
      },
      "source": [
        "print(len(model))"
      ],
      "execution_count": 33,
      "outputs": [
        {
          "output_type": "stream",
          "text": [
            "2\n"
          ],
          "name": "stdout"
        }
      ]
    },
    {
      "cell_type": "code",
      "metadata": {
        "colab": {
          "base_uri": "https://localhost:8080/"
        },
        "id": "HYxJJfhn-uk5",
        "outputId": "fbea2211-13e5-4e44-b572-91b409ff6bd4"
      },
      "source": [
        "p_train = np.zeros((y_train.shape[0],num_classes*len(model)))\r\n",
        "p_test = np.zeros((y_test.shape[0],num_classes*len(model)))\r\n",
        "for i, p in enumerate(p_tr):\r\n",
        "    print(i)\r\n",
        "    p_train[:,num_classes*i:num_classes*(i+1)] = p\r\n",
        "\r\n",
        "for i, p in enumerate(p_te):\r\n",
        "    p_test[:,num_classes*i:num_classes*(i+1)] = p\r\n",
        "    \r\n",
        "print(p_train.shape, p_test.shape)"
      ],
      "execution_count": 34,
      "outputs": [
        {
          "output_type": "stream",
          "text": [
            "0\n",
            "1\n",
            "(32298, 14) (3589, 14)\n"
          ],
          "name": "stdout"
        }
      ]
    },
    {
      "cell_type": "code",
      "metadata": {
        "colab": {
          "base_uri": "https://localhost:8080/"
        },
        "id": "jjxdWKlN-unq",
        "outputId": "ddf72a6e-b22a-4f0b-e73f-63d035b0746a"
      },
      "source": [
        "# Trains an Conventional Neural Network on previously predicted values by the two models\r\n",
        "\r\n",
        "batch_size = 32\r\n",
        "num_classes = 7\r\n",
        "epochs = 30\r\n",
        "\r\n",
        "modele = Sequential()\r\n",
        "modele.add(Dense(128, activation='relu', input_shape=(num_classes*len(model),)))\r\n",
        "modele.add(Dense(num_classes, activation='softmax'))\r\n",
        "\r\n",
        "modele.compile(loss='categorical_crossentropy',\r\n",
        "              optimizer=keras.optimizers.Adadelta(),\r\n",
        "              metrics=['accuracy'])\r\n",
        "\r\n",
        "history = modele.fit(p_train, y_train,\r\n",
        "                    batch_size=batch_size,\r\n",
        "                    epochs=epochs,\r\n",
        "                    verbose=1,\r\n",
        "                    validation_data=(p_test, y_test))\r\n",
        "          \r\n",
        "score = modele.evaluate(p_test, y_test, verbose=0)\r\n",
        "modele.save('saved_model/ensemble.h5')\r\n",
        "\r\n",
        "print('NN Based Ensembled Model')\r\n",
        "print('Test loss:', score[0])\r\n",
        "print('Test accuracy:', score[1])"
      ],
      "execution_count": 35,
      "outputs": [
        {
          "output_type": "stream",
          "text": [
            "Epoch 1/30\n",
            "1010/1010 [==============================] - 3s 3ms/step - loss: 2.0044 - accuracy: 0.0072 - val_loss: 1.9580 - val_accuracy: 0.0666\n",
            "Epoch 2/30\n",
            "1010/1010 [==============================] - 3s 3ms/step - loss: 1.9679 - accuracy: 0.2075 - val_loss: 1.9345 - val_accuracy: 0.2527\n",
            "Epoch 3/30\n",
            "1010/1010 [==============================] - 3s 3ms/step - loss: 1.9286 - accuracy: 0.2513 - val_loss: 1.9099 - val_accuracy: 0.2588\n",
            "Epoch 4/30\n",
            "1010/1010 [==============================] - 4s 3ms/step - loss: 1.8885 - accuracy: 0.2530 - val_loss: 1.8851 - val_accuracy: 0.2630\n",
            "Epoch 5/30\n",
            "1010/1010 [==============================] - 3s 3ms/step - loss: 1.8483 - accuracy: 0.3254 - val_loss: 1.8602 - val_accuracy: 0.3037\n",
            "Epoch 6/30\n",
            "1010/1010 [==============================] - 3s 3ms/step - loss: 1.8082 - accuracy: 0.4020 - val_loss: 1.8354 - val_accuracy: 0.3201\n",
            "Epoch 7/30\n",
            "1010/1010 [==============================] - 3s 3ms/step - loss: 1.7683 - accuracy: 0.4084 - val_loss: 1.8109 - val_accuracy: 0.3268\n",
            "Epoch 8/30\n",
            "1010/1010 [==============================] - 3s 3ms/step - loss: 1.7288 - accuracy: 0.4106 - val_loss: 1.7866 - val_accuracy: 0.3355\n",
            "Epoch 9/30\n",
            "1010/1010 [==============================] - 3s 3ms/step - loss: 1.6893 - accuracy: 0.4460 - val_loss: 1.7624 - val_accuracy: 0.3703\n",
            "Epoch 10/30\n",
            "1010/1010 [==============================] - 3s 3ms/step - loss: 1.6500 - accuracy: 0.5638 - val_loss: 1.7384 - val_accuracy: 0.4483\n",
            "Epoch 11/30\n",
            "1010/1010 [==============================] - 3s 3ms/step - loss: 1.6112 - accuracy: 0.6938 - val_loss: 1.7149 - val_accuracy: 0.4639\n",
            "Epoch 12/30\n",
            "1010/1010 [==============================] - 3s 3ms/step - loss: 1.5732 - accuracy: 0.7084 - val_loss: 1.6920 - val_accuracy: 0.5297\n",
            "Epoch 13/30\n",
            "1010/1010 [==============================] - 3s 3ms/step - loss: 1.5355 - accuracy: 0.8982 - val_loss: 1.6691 - val_accuracy: 0.5876\n",
            "Epoch 14/30\n",
            "1010/1010 [==============================] - 3s 3ms/step - loss: 1.4976 - accuracy: 0.9295 - val_loss: 1.6463 - val_accuracy: 0.6004\n",
            "Epoch 15/30\n",
            "1010/1010 [==============================] - 3s 3ms/step - loss: 1.4599 - accuracy: 0.9341 - val_loss: 1.6237 - val_accuracy: 0.6088\n",
            "Epoch 16/30\n",
            "1010/1010 [==============================] - 3s 3ms/step - loss: 1.4225 - accuracy: 0.9371 - val_loss: 1.6015 - val_accuracy: 0.6155\n",
            "Epoch 17/30\n",
            "1010/1010 [==============================] - 3s 3ms/step - loss: 1.3856 - accuracy: 0.9389 - val_loss: 1.5798 - val_accuracy: 0.6219\n",
            "Epoch 18/30\n",
            "1010/1010 [==============================] - 3s 3ms/step - loss: 1.3491 - accuracy: 0.9398 - val_loss: 1.5583 - val_accuracy: 0.6272\n",
            "Epoch 19/30\n",
            "1010/1010 [==============================] - 3s 3ms/step - loss: 1.3130 - accuracy: 0.9406 - val_loss: 1.5372 - val_accuracy: 0.6311\n",
            "Epoch 20/30\n",
            "1010/1010 [==============================] - 3s 3ms/step - loss: 1.2772 - accuracy: 0.9411 - val_loss: 1.5163 - val_accuracy: 0.6333\n",
            "Epoch 21/30\n",
            "1010/1010 [==============================] - 3s 3ms/step - loss: 1.2420 - accuracy: 0.9416 - val_loss: 1.4960 - val_accuracy: 0.6342\n",
            "Epoch 22/30\n",
            "1010/1010 [==============================] - 3s 3ms/step - loss: 1.2070 - accuracy: 0.9422 - val_loss: 1.4758 - val_accuracy: 0.6364\n",
            "Epoch 23/30\n",
            "1010/1010 [==============================] - 3s 3ms/step - loss: 1.1724 - accuracy: 0.9424 - val_loss: 1.4561 - val_accuracy: 0.6372\n",
            "Epoch 24/30\n",
            "1010/1010 [==============================] - 3s 3ms/step - loss: 1.1381 - accuracy: 0.9428 - val_loss: 1.4367 - val_accuracy: 0.6375\n",
            "Epoch 25/30\n",
            "1010/1010 [==============================] - 3s 3ms/step - loss: 1.1043 - accuracy: 0.9430 - val_loss: 1.4178 - val_accuracy: 0.6392\n",
            "Epoch 26/30\n",
            "1010/1010 [==============================] - 3s 3ms/step - loss: 1.0711 - accuracy: 0.9432 - val_loss: 1.3995 - val_accuracy: 0.6403\n",
            "Epoch 27/30\n",
            "1010/1010 [==============================] - 3s 3ms/step - loss: 1.0388 - accuracy: 0.9431 - val_loss: 1.3817 - val_accuracy: 0.6406\n",
            "Epoch 28/30\n",
            "1010/1010 [==============================] - 3s 3ms/step - loss: 1.0071 - accuracy: 0.9431 - val_loss: 1.3644 - val_accuracy: 0.6411\n",
            "Epoch 29/30\n",
            "1010/1010 [==============================] - 3s 3ms/step - loss: 0.9758 - accuracy: 0.9432 - val_loss: 1.3475 - val_accuracy: 0.6411\n",
            "Epoch 30/30\n",
            "1010/1010 [==============================] - 3s 3ms/step - loss: 0.9450 - accuracy: 0.9431 - val_loss: 1.3310 - val_accuracy: 0.6417\n",
            "NN Based Ensembled Model\n",
            "Test loss: 1.3310296535491943\n",
            "Test accuracy: 0.6416829228401184\n"
          ],
          "name": "stdout"
        }
      ]
    }
  ]
}